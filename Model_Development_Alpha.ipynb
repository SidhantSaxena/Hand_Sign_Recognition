{
 "cells": [
  {
   "cell_type": "code",
   "execution_count": 1,
   "id": "719de74e",
   "metadata": {},
   "outputs": [],
   "source": [
    "import numpy as np\n",
    "from sklearn.preprocessing import LabelEncoder\n",
    "from keras.utils import to_categorical\n",
    "from sklearn.model_selection import train_test_split\n",
    "import os"
   ]
  },
  {
   "cell_type": "code",
   "execution_count": 51,
   "id": "0e647d55",
   "metadata": {},
   "outputs": [
    {
     "name": "stdout",
     "output_type": "stream",
     "text": [
      "{'a': 0, 'b': 1, 'c': 2, 'd': 3, 'e': 4, 'f': 5, 'g': 6, 'h': 7, 'i': 8, 'j': 9, 'k': 10, 'l': 11, 'm': 12, 'n': 13, 'o': 14, 'p': 15, 'q': 16, 'r': 17, 's': 18, 't': 19, 'u': 20, 'v': 21, 'w': 22, 'x': 23, 'y': 24, 'z': 25}\n"
     ]
    }
   ],
   "source": [
    "PATH = os.path.join('alpha')\n",
    "actions = np.array(os.listdir(PATH))\n",
    "label_map={label:num for num,label in enumerate(actions)}\n",
    "print(label_map)"
   ]
  },
  {
   "cell_type": "code",
   "execution_count": 52,
   "id": "66d1d978",
   "metadata": {},
   "outputs": [],
   "source": [
    "act_len=len(actions)\n",
    "no_sequences = 30 #30 vids for each action\n",
    "sequence_length = 15# each vid 30 frame length"
   ]
  },
  {
   "cell_type": "code",
   "execution_count": 53,
   "id": "a7245207",
   "metadata": {},
   "outputs": [],
   "source": [
    "feat,labels = [],[]\n",
    "for act in actions:\n",
    "    for seq in range(no_sequences):\n",
    "        window=[]\n",
    "        for frame in range(sequence_length):\n",
    "            res = np.load(os.path.join(PATH,act,str(seq),f\"{frame}.npy\"))\n",
    "            window.append(res)\n",
    "        feat.append(window)\n",
    "        labels.append(label_map[act])"
   ]
  },
  {
   "cell_type": "code",
   "execution_count": 54,
   "id": "9a1421f3",
   "metadata": {},
   "outputs": [],
   "source": [
    "X=np.array(feat)\n",
    "y=to_categorical(labels).astype(int)"
   ]
  },
  {
   "cell_type": "code",
   "execution_count": 55,
   "id": "666605a9",
   "metadata": {},
   "outputs": [],
   "source": [
    "Xtrain,Xtest,ytrain,ytest = train_test_split(X,y,test_size=0.1,random_state=5)"
   ]
  },
  {
   "cell_type": "code",
   "execution_count": 56,
   "id": "cd4c73fb",
   "metadata": {},
   "outputs": [
    {
     "name": "stdout",
     "output_type": "stream",
     "text": [
      "(702, 15, 63) (78, 15, 63)\n"
     ]
    }
   ],
   "source": [
    "print(Xtrain.shape,Xtest.shape)"
   ]
  },
  {
   "cell_type": "code",
   "execution_count": 57,
   "id": "b56f5b6c",
   "metadata": {},
   "outputs": [
    {
     "name": "stdout",
     "output_type": "stream",
     "text": [
      "(702, 26) (78, 26)\n"
     ]
    }
   ],
   "source": [
    "print(ytrain.shape,ytest.shape)"
   ]
  },
  {
   "cell_type": "code",
   "execution_count": 11,
   "id": "cad81633",
   "metadata": {},
   "outputs": [],
   "source": [
    "from keras.models import Sequential\n",
    "from keras.layers import Dense,LSTM,Dropout"
   ]
  },
  {
   "cell_type": "code",
   "execution_count": 58,
   "id": "4fabd903",
   "metadata": {},
   "outputs": [],
   "source": [
    "# 10,126 for alpha\n",
    "model = Sequential()\n",
    "model.add(LSTM(64, return_sequences=True, activation='relu', input_shape=(15, 63)))\n",
    "model.add(LSTM(128, return_sequences=True, activation='relu'))\n",
    "model.add(LSTM(64, return_sequences=False, activation='relu'))\n",
    "model.add(Dense(64, activation='relu'))\n",
    "model.add(Dense(32, activation='relu'))\n",
    "model.add(Dense(actions.shape[0], activation='softmax'))"
   ]
  },
  {
   "cell_type": "code",
   "execution_count": 59,
   "id": "c9f046bc",
   "metadata": {},
   "outputs": [],
   "source": [
    "model.compile(optimizer='Adam', loss='categorical_crossentropy', metrics=['categorical_accuracy'])"
   ]
  },
  {
   "cell_type": "code",
   "execution_count": 60,
   "id": "27b79280",
   "metadata": {},
   "outputs": [
    {
     "name": "stdout",
     "output_type": "stream",
     "text": [
      "Model: \"sequential_3\"\n",
      "_________________________________________________________________\n",
      " Layer (type)                Output Shape              Param #   \n",
      "=================================================================\n",
      " lstm_9 (LSTM)               (None, 15, 64)            32768     \n",
      "                                                                 \n",
      " lstm_10 (LSTM)              (None, 15, 128)           98816     \n",
      "                                                                 \n",
      " lstm_11 (LSTM)              (None, 64)                49408     \n",
      "                                                                 \n",
      " dense_11 (Dense)            (None, 64)                4160      \n",
      "                                                                 \n",
      " dense_12 (Dense)            (None, 32)                2080      \n",
      "                                                                 \n",
      " dense_13 (Dense)            (None, 26)                858       \n",
      "                                                                 \n",
      "=================================================================\n",
      "Total params: 188,090\n",
      "Trainable params: 188,090\n",
      "Non-trainable params: 0\n",
      "_________________________________________________________________\n"
     ]
    }
   ],
   "source": [
    "model.summary()"
   ]
  },
  {
   "cell_type": "code",
   "execution_count": 65,
   "id": "e4409c6a",
   "metadata": {},
   "outputs": [
    {
     "name": "stdout",
     "output_type": "stream",
     "text": [
      "Epoch 1/5\n",
      "25/25 [==============================] - 1s 48ms/step - loss: 0.1404 - categorical_accuracy: 0.9641\n",
      "Epoch 2/5\n",
      "25/25 [==============================] - 1s 52ms/step - loss: 0.0960 - categorical_accuracy: 0.9667\n",
      "Epoch 3/5\n",
      "25/25 [==============================] - 1s 48ms/step - loss: 0.1288 - categorical_accuracy: 0.9564\n",
      "Epoch 4/5\n",
      "25/25 [==============================] - 1s 52ms/step - loss: 0.1549 - categorical_accuracy: 0.9462\n",
      "Epoch 5/5\n",
      "25/25 [==============================] - 1s 52ms/step - loss: 0.1770 - categorical_accuracy: 0.9397\n"
     ]
    }
   ],
   "source": [
    "history=model.fit(Xtrain,ytrain,epochs=5,validation_data=(Xtest, ytest))"
   ]
  },
  {
   "cell_type": "code",
   "execution_count": 66,
   "id": "e40798a1",
   "metadata": {},
   "outputs": [
    {
     "name": "stdout",
     "output_type": "stream",
     "text": [
      "25/25 [==============================] - 1s 18ms/step\n"
     ]
    }
   ],
   "source": [
    "import matplotlib.pyplot as plt\n",
    "\n",
    "plt.plot(history.history['accuracy'], label='Training Accuracy')\n",
    "plt.plot(history.history['val_accuracy'], label='Validation Accuracy')\n",
    "plt.xlabel('Epoch')\n",
    "plt.ylabel('Accuracy')\n",
    "plt.title('Training and Validation Accuracy')\n",
    "plt.legend()\n",
    "plt.show()"
   ]
  },
  {
   "cell_type": "code",
   "execution_count": 67,
   "id": "f84ce765",
   "metadata": {},
   "outputs": [],
   "source": [
    "ytrue = np.argmax(y, axis=1).tolist()\n",
    "yhat = np.argmax(yhat, axis=1).tolist()"
   ]
  },
  {
   "cell_type": "code",
   "execution_count": 68,
   "id": "915cea57",
   "metadata": {},
   "outputs": [
    {
     "data": {
      "text/plain": [
       "0.9705128205128205"
      ]
     },
     "execution_count": 68,
     "metadata": {},
     "output_type": "execute_result"
    }
   ],
   "source": [
    "from sklearn.metrics import accuracy_score,confusion_matrix\n",
    "accuracy_score(ytrue, yhat)"
   ]
  },
  {
   "cell_type": "code",
   "execution_count": 74,
   "id": "64db926d",
   "metadata": {},
   "outputs": [],
   "source": [
    "import keras\n",
    "keras.models.save_model(model,filepath='Model/model2_alphabet.h5')"
   ]
  },
  {
   "cell_type": "code",
   "execution_count": 69,
   "id": "3a8325b1",
   "metadata": {},
   "outputs": [],
   "source": [
    "cm = confusion_matrix(ytrue,yhat)"
   ]
  },
  {
   "cell_type": "code",
   "execution_count": 70,
   "id": "92c09196",
   "metadata": {},
   "outputs": [
    {
     "data": {
      "text/plain": [
       "<AxesSubplot:>"
      ]
     },
     "execution_count": 70,
     "metadata": {},
     "output_type": "execute_result"
    },
    {
     "data": {
      "image/png": "[encoded data removed]",
      "text/plain": [
       "<Figure size 432x288 with 2 Axes>"
      ]
     },
     "metadata": {
      "needs_background": "light"
     },
     "output_type": "display_data"
    }
   ],
   "source": [
    "import seaborn as sns\n",
    "sns.heatmap(cm,annot=True)"
   ]
  },
  {
   "cell_type": "code",
   "execution_count": 154,
   "id": "0c9611ca",
   "metadata": {},
   "outputs": [
    {
     "name": "stdout",
     "output_type": "stream",
     "text": [
      "recall: [1.         1.         1.         1.         1.         1.\n",
      " 1.         1.         0.96666667 1.         1.         0.96666667\n",
      " 0.96666667 0.7        1.         0.96666667 0.93333333 1.\n",
      " 1.         1.         1.         0.56666667 1.         0.96666667\n",
      " 0.9        0.96666667]\n",
      "Precision: [1.         1.         1.         1.         1.         1.\n",
      " 1.         1.         1.         1.         1.         1.\n",
      " 0.78378378 0.84       0.85714286 1.         1.         1.\n",
      " 1.         1.         0.69767442 1.         0.96774194 1.\n",
      " 0.96428571 0.96666667]\n",
      "Fall out: [0.         0.         0.         0.         0.         0.\n",
      " 0.         0.         0.         0.         0.         0.\n",
      " 0.01066667 0.00533333 0.00666667 0.         0.         0.\n",
      " 0.         0.         0.01733333 0.         0.00133333 0.\n",
      " 0.00133333 0.00133333]\n",
      "Accuracy: [1.         1.         1.         1.         1.         1.\n",
      " 1.         1.         0.99871795 1.         1.         0.99871795\n",
      " 0.98846154 0.98333333 0.99358974 0.99871795 0.9974359  1.\n",
      " 1.         1.         0.98333333 0.98333333 0.99871795 0.99871795\n",
      " 0.99487179 0.9974359 ]\n"
     ]
    }
   ],
   "source": [
    "FP = cm.sum(axis=0) - np.diag(cm)  \n",
    "FN = cm.sum(axis=1) - np.diag(cm)\n",
    "TP = np.diag(cm)\n",
    "TN = cm.sum() - (FP + FN + TP)\n",
    "\n",
    "# Sensitivity, hit rate, recall, or true positive rate\n",
    "TPR = TP/(TP+FN)\n",
    "print(\"recall:\",TPR)\n",
    "# Specificity or true negative rate\n",
    "TNR = TN/(TN+FP) \n",
    "# print(\"true neg rate:\",TNR)\n",
    "# Precision or positive predictive value\n",
    "PPV = TP/(TP+FP)\n",
    "print(\"Precision:\",PPV)\n",
    "# Negative predictive value\n",
    "NPV = TN/(TN+FN)\n",
    "# print(\"Neg pred value:\",NPV)\n",
    "# Fall out or false positive rate\n",
    "FPR = FP/(FP+TN)\n",
    "print(\"Fall out:\",FPR)\n",
    "# False negative rate\n",
    "FNR = FN/(TP+FN)\n",
    "# print(\"False neg rate;\",FNR)\n",
    "# False discovery rate\n",
    "FDR = FP/(TP+FP)\n",
    "# print(\"False discovery rate:\",FDR)\n",
    "\n",
    "# Overall accuracy\n",
    "ACC = (TP+TN)/(TP+FP+FN+TN)\n",
    "print(\"Accuracy:\",ACC)"
   ]
  },
  {
   "cell_type": "code",
   "execution_count": 72,
   "id": "518aa323",
   "metadata": {},
   "outputs": [
    {
     "name": "stdout",
     "output_type": "stream",
     "text": [
      "1/1 [==============================] - 0s 33ms/step\n",
      "1/1 [==============================] - 0s 34ms/step\n",
      "1/1 [==============================] - 0s 31ms/step\n",
      "1/1 [==============================] - 0s 35ms/step\n",
      "1/1 [==============================] - 0s 33ms/step\n",
      "1/1 [==============================] - 0s 31ms/step\n",
      "1/1 [==============================] - 0s 31ms/step\n",
      "1/1 [==============================] - 0s 34ms/step\n",
      "1/1 [==============================] - 0s 35ms/step\n",
      "1/1 [==============================] - 0s 31ms/step\n",
      "1/1 [==============================] - 0s 32ms/step\n",
      "1/1 [==============================] - 0s 30ms/step\n",
      "1/1 [==============================] - 0s 33ms/step\n",
      "1/1 [==============================] - 0s 32ms/step\n",
      "1/1 [==============================] - 0s 32ms/step\n",
      "1/1 [==============================] - 0s 40ms/step\n",
      "1/1 [==============================] - 0s 30ms/step\n",
      "1/1 [==============================] - 0s 33ms/step\n",
      "1/1 [==============================] - 0s 33ms/step\n",
      "1/1 [==============================] - 0s 33ms/step\n",
      "1/1 [==============================] - 0s 34ms/step\n",
      "1/1 [==============================] - 0s 32ms/step\n",
      "1/1 [==============================] - 0s 32ms/step\n",
      "1/1 [==============================] - 0s 34ms/step\n",
      "1/1 [==============================] - 0s 48ms/step\n",
      "1/1 [==============================] - 0s 34ms/step\n",
      "1/1 [==============================] - 0s 32ms/step\n",
      "1/1 [==============================] - 0s 31ms/step\n",
      "1/1 [==============================] - 0s 32ms/step\n",
      "1/1 [==============================] - 0s 32ms/step\n",
      "1/1 [==============================] - 0s 32ms/step\n",
      "1/1 [==============================] - 0s 30ms/step\n",
      "1/1 [==============================] - 0s 40ms/step\n",
      "1/1 [==============================] - 0s 32ms/step\n",
      "1/1 [==============================] - 0s 32ms/step\n",
      "1/1 [==============================] - 0s 31ms/step\n",
      "1/1 [==============================] - 0s 32ms/step\n",
      "1/1 [==============================] - 0s 36ms/step\n",
      "1/1 [==============================] - 0s 31ms/step\n",
      "1/1 [==============================] - 0s 34ms/step\n"
     ]
    }
   ],
   "source": [
    "import numpy as np\n",
    "import time\n",
    "import os\n",
    "import mediapipe as mp\n",
    "from matplotlib import pyplot as plt\n",
    "import cv2\n",
    "from keras.models import load_model\n",
    "\n",
    "mp_holistic = mp.solutions.holistic #holistic model\n",
    "mp_drawing = mp.solutions.drawing_utils # Drawing utils\n",
    "\n",
    "def extract_keypoints(result):\n",
    "    # pose = np.array([[res.x,res.y,res.z,res.visibility] for res in result.pose_landmarks.landmark] if result.pose_landmarks else np.zeros(33*4)).flatten()\n",
    "    # lh = np.array([[res.x,res.y,res.z] for res in result.left_hand_landmarks.landmark] if result.left_hand_landmarks else np.zeros(21*3)).flatten()\n",
    "    rh = np.array([[res.x,res.y,res.z] for res in result.right_hand_landmarks.landmark] if result.right_hand_landmarks else np.zeros(21*3)).flatten()\n",
    "    # return np.concatenate([pose,lh,rh])\n",
    "    return rh\n",
    "\n",
    "def mp_detection(image,model):\n",
    "    image = cv2.cvtColor(image,cv2.COLOR_BGR2RGB)\n",
    "    image.flags.writeable = False\n",
    "    res = model.process(image)\n",
    "    image.flags.writeable = True\n",
    "    image = cv2.cvtColor(image,cv2.COLOR_RGB2BGR)\n",
    "    return image,res\n",
    "\n",
    "def draw_landmarks(image,results):\n",
    "    mp_drawing.draw_landmarks(image,results.pose_landmarks,mp_holistic.POSE_CONNECTIONS,mp_drawing.DrawingSpec(color=(142,110,60)),mp_drawing.DrawingSpec(color=(142,110,60)))\n",
    "    mp_drawing.draw_landmarks(image,results.left_hand_landmarks,mp_holistic.HAND_CONNECTIONS,mp_drawing.DrawingSpec(color=(142,110,60)),mp_drawing.DrawingSpec(color=(142,110,60)))\n",
    "    mp_drawing.draw_landmarks(image,results.right_hand_landmarks,mp_holistic.HAND_CONNECTIONS,mp_drawing.DrawingSpec(color=(142,110,60)),mp_drawing.DrawingSpec(color=(142,110,60)))    \n",
    "    return image\n",
    "\n",
    "\n",
    "\n",
    "sequence = []\n",
    "sentence = []\n",
    "predictions = []\n",
    "threshold = 0.5\n",
    "val=\"\"\n",
    "# collections\n",
    "cap = cv2.VideoCapture(0)\n",
    "x=0\n",
    "with mp_holistic.Holistic(min_detection_confidence=0.6,min_tracking_confidence=0.8) as holistic:\n",
    "    while cap.isOpened():\n",
    "        #read frame\n",
    "        success,frame = cap.read()\n",
    "\n",
    "        #detection         \n",
    "        image,data = mp_detection(frame,holistic)\n",
    "        #draw landmark\n",
    "        image = draw_landmarks(image,data)\n",
    "        kp = extract_keypoints(data)\n",
    "\n",
    "        sequence.append(kp)\n",
    "        sequence = sequence[-15:]\n",
    "        if len(sequence) == 15:\n",
    "            res = model.predict(np.expand_dims(sequence, axis=0))[0]\n",
    "            val=actions[np.argmax(res)]\n",
    "            predictions.append(np.argmax(res))\n",
    "            # if np.unique(predictions[-10:])[0]==np.argmax(res):\n",
    "            #         if res[np.argmax(res)] > threshold: \n",
    "            #             if len(sentence) > 0: \n",
    "            #                 if actions[np.argmax(res)] != sentence[-1]:\n",
    "            #                     sentence.append(actions[np.argmax(res)])\n",
    "            #             else:\n",
    "            #                 sentence.append(actions[np.argmax(res)])   \n",
    "            sequence=[] \n",
    "        \n",
    "        cv2.rectangle(image, (0,0), (640, 40), (245, 117, 16), -1)\n",
    "        cv2.putText(image,val, (3,30), \n",
    "                       cv2.FONT_HERSHEY_SIMPLEX, 1, (255, 255, 255), 2, cv2.LINE_AA)\n",
    "        # sentence=[]\n",
    "        cv2.imshow(\"Feed\",image)\n",
    "\n",
    "        #breaking/exit feed\n",
    "        if cv2.waitKey(10) & 0xFF == ord('q'):\n",
    "            break\n",
    "\n",
    "    cap.release()\n",
    "    cv2.destroyAllWindows()"
   ]
  },
  {
   "cell_type": "code",
   "execution_count": null,
   "id": "711c598e",
   "metadata": {},
   "outputs": [],
   "source": []
  }
 ],
 "metadata": {
  "kernelspec": {
   "display_name": "Python 3.9.13 64-bit",
   "language": "python",
   "name": "python3"
  },
  "language_info": {
   "codemirror_mode": {
    "name": "ipython",
    "version": 3
   },
   "file_extension": ".py",
   "mimetype": "text/x-python",
   "name": "python",
   "nbconvert_exporter": "python",
   "pygments_lexer": "ipython3",
   "version": "3.9.13"
  },
  "vscode": {
   "interpreter": {
    "hash": "11938c6bc6919ae2720b4d5011047913343b08a43b18698fd82dedb0d4417594"
   }
  }
 },
 "nbformat": 4,
 "nbformat_minor": 5
}
