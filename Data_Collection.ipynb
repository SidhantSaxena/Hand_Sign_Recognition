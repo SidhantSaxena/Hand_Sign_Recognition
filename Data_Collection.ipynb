{
 "cells": [
  {
   "cell_type": "code",
   "execution_count": 1,
   "id": "fd7f6bd5",
   "metadata": {},
   "outputs": [],
   "source": [
    "# import cv2\n",
    "import numpy as np\n",
    "import time\n",
    "import os\n",
    "import mediapipe as mp\n",
    "from matplotlib import pyplot as plt\n",
    "import cv2"
   ]
  },
  {
   "cell_type": "code",
   "execution_count": 2,
   "id": "f0599a3b",
   "metadata": {},
   "outputs": [],
   "source": [
    "mp_holistic = mp.solutions.holistic #holistic model\n",
    "mp_drawing = mp.solutions.drawing_utils # Drawing utils"
   ]
  },
  {
   "cell_type": "code",
   "execution_count": 3,
   "id": "5ffe10c3",
   "metadata": {},
   "outputs": [],
   "source": [
    "def mp_detection(image,model):\n",
    "    image = cv2.cvtColor(image,cv2.COLOR_BGR2RGB)\n",
    "    image.flags.writeable = False\n",
    "    res = model.process(image)\n",
    "    image.flags.writeable = True\n",
    "    image = cv2.cvtColor(image,cv2.COLOR_RGB2BGR)\n",
    "    return image,res"
   ]
  },
  {
   "cell_type": "code",
   "execution_count": 4,
   "id": "b7a99d3e",
   "metadata": {},
   "outputs": [],
   "source": [
    "def draw_landmarks(image,results):\n",
    "    mp_drawing.draw_landmarks(image,results.pose_landmarks,mp_holistic.POSE_CONNECTIONS,mp_drawing.DrawingSpec(color=(142,110,60)),mp_drawing.DrawingSpec(color=(142,110,60)))\n",
    "    mp_drawing.draw_landmarks(image,results.left_hand_landmarks,mp_holistic.HAND_CONNECTIONS,mp_drawing.DrawingSpec(color=(142,110,60)),mp_drawing.DrawingSpec(color=(142,110,60)))\n",
    "    mp_drawing.draw_landmarks(image,results.right_hand_landmarks,mp_holistic.HAND_CONNECTIONS,mp_drawing.DrawingSpec(color=(142,110,60)),mp_drawing.DrawingSpec(color=(142,110,60)))    \n",
    "    return image"
   ]
  },
  {
   "cell_type": "markdown",
   "id": "edac4aea",
   "metadata": {},
   "source": [
    "# Extracting Keypoints for Data Collection"
   ]
  },
  {
   "cell_type": "code",
   "execution_count": 5,
   "id": "8e0d2351",
   "metadata": {},
   "outputs": [],
   "source": [
    "def extract_keypoints(result):\n",
    "    pose = np.array([[res.x,res.y,res.z,res.visibility] for res in result.pose_landmarks.landmark] if result.pose_landmarks else np.zeros(33*4)).flatten()\n",
    "    lh = np.array([[res.x,res.y,res.z] for res in result.left_hand_landmarks.landmark] if result.left_hand_landmarks else np.zeros(21*3)).flatten()\n",
    "    rh = np.array([[res.x,res.y,res.z] for res in result.right_hand_landmarks.landmark] if result.right_hand_landmarks else np.zeros(21*3)).flatten()\n",
    "    return np.concatenate([pose,lh,rh])"
   ]
  },
  {
   "cell_type": "code",
   "execution_count": 6,
   "id": "9695bc4d",
   "metadata": {},
   "outputs": [
    {
     "name": "stdout",
     "output_type": "stream",
     "text": [
      "['eat' 'hello' 'help' 'no' 'please' 'thanks' 'what' 'yes']\n"
     ]
    }
   ],
   "source": [
    "path = os.path.join('KeyPoint_Data')\n",
    "actions = np.array(os.listdir(path))\n",
    "print(actions)\n",
    "act_len=len(actions)\n",
    "no_sequences = 30 #50 vids for each action\n",
    "sequence_length = 30 #each vid 50 frame length"
   ]
  },
  {
   "cell_type": "code",
   "execution_count": 7,
   "id": "dbfe8e20",
   "metadata": {},
   "outputs": [],
   "source": [
    "for act in actions:\n",
    "    try:\n",
    "        os.mkdir(path+'/'+act)\n",
    "        for i in range(no_sequences):\n",
    "            os.mkdir(path+'/'+act+'/'+str(i))\n",
    "    except:\n",
    "        pass"
   ]
  },
  {
   "cell_type": "code",
   "execution_count": 7,
   "id": "7c09ba75",
   "metadata": {},
   "outputs": [],
   "source": [
    "# collections\n",
    "cap = cv2.VideoCapture(0)\n",
    "x=0\n",
    "act=\"thanks\"\n",
    "flag=False\n",
    "with mp_holistic.Holistic(min_detection_confidence=0.6,min_tracking_confidence=0.8) as holistic:\n",
    "    while cap.isOpened():\n",
    "        for no in range(no_sequences):\n",
    "            for fr in range(sequence_length):\n",
    "                #read frame\n",
    "                success,frame = cap.read()\n",
    "\n",
    "                #detection         \n",
    "                image,res = mp_detection(frame,holistic)\n",
    "\n",
    "                #draw landmark\n",
    "                frame = draw_landmarks(image,res)\n",
    "                \n",
    "                if fr==0:\n",
    "                    cv2.putText(frame,'Starting Collection',(120,200),cv2.FONT_HERSHEY_SIMPLEX,1,(170,255,0),2,cv2.LINE_AA)\n",
    "                    cv2.putText(frame,f\"Action:{act} Vid:{no}\",(15,12),cv2.FONT_HERSHEY_SIMPLEX,1,(170,255,0),2,cv2.LINE_AA)\n",
    "                    cv2.imshow(\"Feed\",frame)\n",
    "                    cv2.waitKey(3000)\n",
    "                else:\n",
    "                    cv2.putText(frame,f\"Action:{act} Vid:{no}\",(15,12),cv2.FONT_HERSHEY_SIMPLEX,1,(170,255,0),2,cv2.LINE_AA)\n",
    "                    cv2.imshow(\"Feed\",frame)\n",
    "                kp = extract_keypoints(res)\n",
    "                npy_path = os.path.join(\"KeyPoint_Data\",act,str(no),str(fr))\n",
    "                np.save(npy_path,kp)\n",
    "\n",
    "                #breaking/exit feed\n",
    "                if cv2.waitKey(10) & 0xFF == ord('q'):\n",
    "                    flag=True\n",
    "                    break\n",
    "                \n",
    "        if no==no_sequences-1 or flag:\n",
    "            cap.release()\n",
    "            cv2.destroyAllWindows()\n",
    "            break"
   ]
  },
  {
   "cell_type": "code",
   "execution_count": null,
   "id": "92697463",
   "metadata": {},
   "outputs": [],
   "source": []
  }
 ],
 "metadata": {
  "kernelspec": {
   "display_name": "Python 3 (ipykernel)",
   "language": "python",
   "name": "python3"
  },
  "language_info": {
   "codemirror_mode": {
    "name": "ipython",
    "version": 3
   },
   "file_extension": ".py",
   "mimetype": "text/x-python",
   "name": "python",
   "nbconvert_exporter": "python",
   "pygments_lexer": "ipython3",
   "version": "3.9.13"
  },
  "vscode": {
   "interpreter": {
    "hash": "11938c6bc6919ae2720b4d5011047913343b08a43b18698fd82dedb0d4417594"
   }
  }
 },
 "nbformat": 4,
 "nbformat_minor": 5
}
