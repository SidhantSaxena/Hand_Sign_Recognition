{
 "cells": [
  {
   "cell_type": "code",
   "execution_count": 1,
   "id": "719de74e",
   "metadata": {},
   "outputs": [],
   "source": [
    "import numpy as np\n",
    "from sklearn.preprocessing import LabelEncoder\n",
    "from keras.utils import to_categorical\n",
    "from sklearn.model_selection import train_test_split\n",
    "import os"
   ]
  },
  {
   "cell_type": "code",
   "execution_count": 2,
   "id": "0e647d55",
   "metadata": {},
   "outputs": [
    {
     "name": "stdout",
     "output_type": "stream",
     "text": [
      "{'hello': 0, 'thanks': 1, 'forgot': 2}\n"
     ]
    }
   ],
   "source": [
    "actions = np.array(['hello','thanks','forgot'])\n",
    "label_map={label:num for num,label in enumerate(actions)}\n",
    "print(label_map)"
   ]
  },
  {
   "cell_type": "code",
   "execution_count": 3,
   "id": "66d1d978",
   "metadata": {},
   "outputs": [],
   "source": [
    "path = 'KeyPoint_Data'\n",
    "act_len=len(actions)\n",
    "no_sequences = 50 #50 vids for each action\n",
    "sequence_length = 30 # each vid 50 frame length"
   ]
  },
  {
   "cell_type": "code",
   "execution_count": 4,
   "id": "a7245207",
   "metadata": {},
   "outputs": [],
   "source": [
    "feat,labels = [],[]\n",
    "for act in actions:\n",
    "    for seq in range(no_sequences):\n",
    "        window=[]\n",
    "        for frame in range(sequence_length):\n",
    "            res = np.load(os.path.join(path,act,str(seq),f\"{frame}.npy\"))\n",
    "            window.append(res)\n",
    "        feat.append(window)\n",
    "        labels.append(label_map[act])"
   ]
  },
  {
   "cell_type": "code",
   "execution_count": 5,
   "id": "9a1421f3",
   "metadata": {},
   "outputs": [],
   "source": [
    "X=np.array(feat)\n",
    "y=to_categorical(labels).astype(int)"
   ]
  },
  {
   "cell_type": "code",
   "execution_count": 6,
   "id": "666605a9",
   "metadata": {},
   "outputs": [],
   "source": [
    "Xtrain,Xtest,ytrain,ytest = train_test_split(X,y,test_size=0.2,random_state=15)"
   ]
  },
  {
   "cell_type": "code",
   "execution_count": 7,
   "id": "cd4c73fb",
   "metadata": {},
   "outputs": [
    {
     "name": "stdout",
     "output_type": "stream",
     "text": [
      "(120, 30, 258) (30, 30, 258)\n"
     ]
    }
   ],
   "source": [
    "print(Xtrain.shape,Xtest.shape)"
   ]
  },
  {
   "cell_type": "code",
   "execution_count": 8,
   "id": "b56f5b6c",
   "metadata": {},
   "outputs": [
    {
     "name": "stdout",
     "output_type": "stream",
     "text": [
      "(120, 3) (30, 3)\n"
     ]
    }
   ],
   "source": [
    "print(ytrain.shape,ytest.shape)"
   ]
  },
  {
   "cell_type": "code",
   "execution_count": 9,
   "id": "cad81633",
   "metadata": {},
   "outputs": [],
   "source": [
    "from keras.models import Sequential\n",
    "from keras.layers import Dense,LSTM"
   ]
  },
  {
   "cell_type": "code",
   "execution_count": 10,
   "id": "4fabd903",
   "metadata": {},
   "outputs": [],
   "source": [
    "model = Sequential()\n",
    "model.add(LSTM(64, return_sequences=True, activation='relu', input_shape=(30,258)))\n",
    "model.add(LSTM(128, return_sequences=True, activation='relu'))\n",
    "model.add(LSTM(64, return_sequences=False, activation='relu'))\n",
    "model.add(Dense(64, activation='relu'))\n",
    "model.add(Dense(32, activation='relu'))\n",
    "model.add(Dense(actions.shape[0], activation='softmax'))"
   ]
  },
  {
   "cell_type": "code",
   "execution_count": 11,
   "id": "c9f046bc",
   "metadata": {},
   "outputs": [],
   "source": [
    "model.compile(optimizer='Adam', loss='categorical_crossentropy', metrics=['categorical_accuracy'])"
   ]
  },
  {
   "cell_type": "code",
   "execution_count": 12,
   "id": "27b79280",
   "metadata": {},
   "outputs": [
    {
     "name": "stdout",
     "output_type": "stream",
     "text": [
      "Model: \"sequential\"\n",
      "_________________________________________________________________\n",
      " Layer (type)                Output Shape              Param #   \n",
      "=================================================================\n",
      " lstm (LSTM)                 (None, 30, 64)            82688     \n",
      "                                                                 \n",
      " lstm_1 (LSTM)               (None, 30, 128)           98816     \n",
      "                                                                 \n",
      " lstm_2 (LSTM)               (None, 64)                49408     \n",
      "                                                                 \n",
      " dense (Dense)               (None, 64)                4160      \n",
      "                                                                 \n",
      " dense_1 (Dense)             (None, 32)                2080      \n",
      "                                                                 \n",
      " dense_2 (Dense)             (None, 3)                 99        \n",
      "                                                                 \n",
      "=================================================================\n",
      "Total params: 237,251\n",
      "Trainable params: 237,251\n",
      "Non-trainable params: 0\n",
      "_________________________________________________________________\n"
     ]
    }
   ],
   "source": [
    "model.summary()"
   ]
  },
  {
   "cell_type": "code",
   "execution_count": 13,
   "id": "e4409c6a",
   "metadata": {},
   "outputs": [
    {
     "name": "stdout",
     "output_type": "stream",
     "text": [
      "Epoch 1/100\n",
      "4/4 [==============================] - 9s 105ms/step - loss: 1.0895 - categorical_accuracy: 0.3500\n",
      "Epoch 2/100\n",
      "4/4 [==============================] - 0s 95ms/step - loss: 1.0139 - categorical_accuracy: 0.4917\n",
      "Epoch 3/100\n",
      "4/4 [==============================] - 0s 98ms/step - loss: 0.8261 - categorical_accuracy: 0.5833\n",
      "Epoch 4/100\n",
      "4/4 [==============================] - 0s 101ms/step - loss: 0.6069 - categorical_accuracy: 0.6333\n",
      "Epoch 5/100\n",
      "4/4 [==============================] - 0s 100ms/step - loss: 0.5304 - categorical_accuracy: 0.7250\n",
      "Epoch 6/100\n",
      "4/4 [==============================] - 0s 120ms/step - loss: 0.4488 - categorical_accuracy: 0.7333\n",
      "Epoch 7/100\n",
      "4/4 [==============================] - 0s 107ms/step - loss: 0.4038 - categorical_accuracy: 0.7583\n",
      "Epoch 8/100\n",
      "4/4 [==============================] - 0s 95ms/step - loss: 0.3113 - categorical_accuracy: 0.8750\n",
      "Epoch 9/100\n",
      "4/4 [==============================] - 0s 101ms/step - loss: 0.4120 - categorical_accuracy: 0.8667\n",
      "Epoch 10/100\n",
      "4/4 [==============================] - 0s 98ms/step - loss: 0.7061 - categorical_accuracy: 0.7667\n",
      "Epoch 11/100\n",
      "4/4 [==============================] - 0s 111ms/step - loss: 0.3488 - categorical_accuracy: 0.9250\n",
      "Epoch 12/100\n",
      "4/4 [==============================] - 0s 133ms/step - loss: 0.4779 - categorical_accuracy: 0.8000\n",
      "Epoch 13/100\n",
      "4/4 [==============================] - 1s 119ms/step - loss: 0.5009 - categorical_accuracy: 0.7917\n",
      "Epoch 14/100\n",
      "4/4 [==============================] - 0s 113ms/step - loss: 0.4128 - categorical_accuracy: 0.7917\n",
      "Epoch 15/100\n",
      "4/4 [==============================] - 0s 99ms/step - loss: 0.4229 - categorical_accuracy: 0.8000\n",
      "Epoch 16/100\n",
      "4/4 [==============================] - 1s 156ms/step - loss: 0.2473 - categorical_accuracy: 0.9000\n",
      "Epoch 17/100\n",
      "4/4 [==============================] - 1s 138ms/step - loss: 0.1611 - categorical_accuracy: 0.9667\n",
      "Epoch 18/100\n",
      "4/4 [==============================] - 0s 112ms/step - loss: 0.1031 - categorical_accuracy: 0.9667\n",
      "Epoch 19/100\n",
      "4/4 [==============================] - 1s 134ms/step - loss: 0.0583 - categorical_accuracy: 0.9750\n",
      "Epoch 20/100\n",
      "4/4 [==============================] - 1s 141ms/step - loss: 0.0752 - categorical_accuracy: 0.9667\n",
      "Epoch 21/100\n",
      "4/4 [==============================] - 1s 146ms/step - loss: 0.3297 - categorical_accuracy: 0.8917\n",
      "Epoch 22/100\n",
      "4/4 [==============================] - 1s 135ms/step - loss: 0.3391 - categorical_accuracy: 0.8250\n",
      "Epoch 23/100\n",
      "4/4 [==============================] - 1s 127ms/step - loss: 0.3265 - categorical_accuracy: 0.8583\n",
      "Epoch 24/100\n",
      "4/4 [==============================] - 0s 112ms/step - loss: 0.3025 - categorical_accuracy: 0.8333\n",
      "Epoch 25/100\n",
      "4/4 [==============================] - 0s 114ms/step - loss: 0.2390 - categorical_accuracy: 0.8500\n",
      "Epoch 26/100\n",
      "4/4 [==============================] - 0s 98ms/step - loss: 0.1889 - categorical_accuracy: 0.8667\n",
      "Epoch 27/100\n",
      "4/4 [==============================] - 0s 106ms/step - loss: 0.1630 - categorical_accuracy: 0.9667\n",
      "Epoch 28/100\n",
      "4/4 [==============================] - 0s 96ms/step - loss: 0.1205 - categorical_accuracy: 0.9833\n",
      "Epoch 29/100\n",
      "4/4 [==============================] - 0s 113ms/step - loss: 0.2049 - categorical_accuracy: 0.8917\n",
      "Epoch 30/100\n",
      "4/4 [==============================] - 0s 95ms/step - loss: 0.2327 - categorical_accuracy: 0.8250\n",
      "Epoch 31/100\n",
      "4/4 [==============================] - 0s 124ms/step - loss: 0.2135 - categorical_accuracy: 0.8667\n",
      "Epoch 32/100\n",
      "4/4 [==============================] - 0s 108ms/step - loss: 0.1520 - categorical_accuracy: 0.9417\n",
      "Epoch 33/100\n",
      "4/4 [==============================] - 0s 98ms/step - loss: 0.0854 - categorical_accuracy: 0.9833\n",
      "Epoch 34/100\n",
      "4/4 [==============================] - 1s 139ms/step - loss: 0.0405 - categorical_accuracy: 0.9833\n",
      "Epoch 35/100\n",
      "4/4 [==============================] - 0s 119ms/step - loss: 0.0920 - categorical_accuracy: 0.9583\n",
      "Epoch 36/100\n",
      "4/4 [==============================] - 0s 106ms/step - loss: 0.1486 - categorical_accuracy: 0.9750\n",
      "Epoch 37/100\n",
      "4/4 [==============================] - 0s 104ms/step - loss: 0.3716 - categorical_accuracy: 0.9000\n",
      "Epoch 38/100\n",
      "4/4 [==============================] - 0s 105ms/step - loss: 0.2111 - categorical_accuracy: 0.9333\n",
      "Epoch 39/100\n",
      "4/4 [==============================] - 0s 103ms/step - loss: 0.3636 - categorical_accuracy: 0.8750\n",
      "Epoch 40/100\n",
      "4/4 [==============================] - 1s 171ms/step - loss: 0.1826 - categorical_accuracy: 0.9167\n",
      "Epoch 41/100\n",
      "4/4 [==============================] - 0s 98ms/step - loss: 0.0716 - categorical_accuracy: 0.9667\n",
      "Epoch 42/100\n",
      "4/4 [==============================] - 0s 113ms/step - loss: 0.0605 - categorical_accuracy: 0.9750\n",
      "Epoch 43/100\n",
      "4/4 [==============================] - 0s 108ms/step - loss: 0.0711 - categorical_accuracy: 0.9750\n",
      "Epoch 44/100\n",
      "4/4 [==============================] - 0s 110ms/step - loss: 20.6416 - categorical_accuracy: 0.7500\n",
      "Epoch 45/100\n",
      "4/4 [==============================] - 0s 98ms/step - loss: 0.4577 - categorical_accuracy: 0.8000\n",
      "Epoch 46/100\n",
      "4/4 [==============================] - 0s 103ms/step - loss: 1.7190 - categorical_accuracy: 0.4083\n",
      "Epoch 47/100\n",
      "4/4 [==============================] - 0s 93ms/step - loss: 2.6353 - categorical_accuracy: 0.4917\n",
      "Epoch 48/100\n",
      "4/4 [==============================] - 0s 102ms/step - loss: 1.9087 - categorical_accuracy: 0.4667\n",
      "Epoch 49/100\n",
      "4/4 [==============================] - 0s 102ms/step - loss: 0.8687 - categorical_accuracy: 0.6833\n",
      "Epoch 50/100\n",
      "4/4 [==============================] - 0s 93ms/step - loss: 2.0289 - categorical_accuracy: 0.7167\n",
      "Epoch 51/100\n",
      "4/4 [==============================] - 0s 119ms/step - loss: 2.0103 - categorical_accuracy: 0.6583\n",
      "Epoch 52/100\n",
      "4/4 [==============================] - 0s 105ms/step - loss: 0.9646 - categorical_accuracy: 0.5333\n",
      "Epoch 53/100\n",
      "4/4 [==============================] - 1s 135ms/step - loss: 3.4900 - categorical_accuracy: 0.3417\n",
      "Epoch 54/100\n",
      "4/4 [==============================] - 1s 155ms/step - loss: 1.9373 - categorical_accuracy: 0.3500\n",
      "Epoch 55/100\n",
      "4/4 [==============================] - 1s 146ms/step - loss: 1.7042 - categorical_accuracy: 0.3000\n",
      "Epoch 56/100\n",
      "4/4 [==============================] - 1s 137ms/step - loss: 1.6719 - categorical_accuracy: 0.3583\n",
      "Epoch 57/100\n",
      "4/4 [==============================] - 1s 148ms/step - loss: 1.2753 - categorical_accuracy: 0.3250\n",
      "Epoch 58/100\n",
      "4/4 [==============================] - 1s 183ms/step - loss: 2.0783 - categorical_accuracy: 0.3583\n",
      "Epoch 59/100\n",
      "4/4 [==============================] - 1s 176ms/step - loss: 11.1388 - categorical_accuracy: 0.3417\n",
      "Epoch 60/100\n",
      "4/4 [==============================] - 1s 170ms/step - loss: 84.6354 - categorical_accuracy: 0.3417\n",
      "Epoch 61/100\n",
      "4/4 [==============================] - 0s 126ms/step - loss: 12.6941 - categorical_accuracy: 0.2833\n",
      "Epoch 62/100\n",
      "4/4 [==============================] - 1s 124ms/step - loss: 4.4415 - categorical_accuracy: 0.3583\n",
      "Epoch 63/100\n",
      "4/4 [==============================] - 1s 171ms/step - loss: 4.9037 - categorical_accuracy: 0.2083\n",
      "Epoch 64/100\n",
      "4/4 [==============================] - 1s 147ms/step - loss: 1.6488 - categorical_accuracy: 0.2750\n",
      "Epoch 65/100\n",
      "4/4 [==============================] - 1s 138ms/step - loss: 1.1161 - categorical_accuracy: 0.3417\n",
      "Epoch 66/100\n",
      "4/4 [==============================] - 1s 134ms/step - loss: 1.0096 - categorical_accuracy: 0.5250\n",
      "Epoch 67/100\n",
      "4/4 [==============================] - 1s 150ms/step - loss: 0.8672 - categorical_accuracy: 0.4250\n",
      "Epoch 68/100\n",
      "4/4 [==============================] - 0s 94ms/step - loss: 0.6860 - categorical_accuracy: 0.6750\n",
      "Epoch 69/100\n",
      "4/4 [==============================] - 0s 128ms/step - loss: 0.5911 - categorical_accuracy: 0.7250\n",
      "Epoch 70/100\n",
      "4/4 [==============================] - 1s 133ms/step - loss: 0.5179 - categorical_accuracy: 0.7500\n",
      "Epoch 71/100\n",
      "4/4 [==============================] - 0s 122ms/step - loss: 0.4961 - categorical_accuracy: 0.8333\n",
      "Epoch 72/100\n",
      "4/4 [==============================] - 0s 108ms/step - loss: 0.4917 - categorical_accuracy: 0.8000\n",
      "Epoch 73/100\n",
      "4/4 [==============================] - 1s 163ms/step - loss: 0.5008 - categorical_accuracy: 0.8000\n",
      "Epoch 74/100\n",
      "4/4 [==============================] - 1s 155ms/step - loss: 0.4518 - categorical_accuracy: 0.8167\n",
      "Epoch 75/100\n",
      "4/4 [==============================] - 0s 112ms/step - loss: 0.4426 - categorical_accuracy: 0.7583\n",
      "Epoch 76/100\n",
      "4/4 [==============================] - 0s 118ms/step - loss: 0.4061 - categorical_accuracy: 0.9417\n",
      "Epoch 77/100\n",
      "4/4 [==============================] - 0s 103ms/step - loss: 0.3510 - categorical_accuracy: 0.9250\n",
      "Epoch 78/100\n",
      "4/4 [==============================] - 1s 131ms/step - loss: 0.3930 - categorical_accuracy: 0.8833\n",
      "Epoch 79/100\n",
      "4/4 [==============================] - 1s 155ms/step - loss: 0.3480 - categorical_accuracy: 0.8500\n",
      "Epoch 80/100\n",
      "4/4 [==============================] - 0s 125ms/step - loss: 0.4864 - categorical_accuracy: 0.8333\n",
      "Epoch 81/100\n",
      "4/4 [==============================] - 0s 112ms/step - loss: 0.3491 - categorical_accuracy: 0.8917\n",
      "Epoch 82/100\n",
      "4/4 [==============================] - 1s 137ms/step - loss: 0.3109 - categorical_accuracy: 0.9250\n",
      "Epoch 83/100\n",
      "4/4 [==============================] - 1s 149ms/step - loss: 0.3156 - categorical_accuracy: 0.9417\n",
      "Epoch 84/100\n",
      "4/4 [==============================] - 1s 140ms/step - loss: 0.3165 - categorical_accuracy: 0.9417\n",
      "Epoch 85/100\n",
      "4/4 [==============================] - 1s 138ms/step - loss: 0.3853 - categorical_accuracy: 0.8750\n",
      "Epoch 86/100\n",
      "4/4 [==============================] - 1s 150ms/step - loss: 0.2936 - categorical_accuracy: 0.9083\n",
      "Epoch 87/100\n",
      "4/4 [==============================] - 0s 110ms/step - loss: 0.3342 - categorical_accuracy: 0.8167\n",
      "Epoch 88/100\n",
      "4/4 [==============================] - 0s 112ms/step - loss: 0.2828 - categorical_accuracy: 0.9333\n",
      "Epoch 89/100\n",
      "4/4 [==============================] - 0s 92ms/step - loss: 0.2039 - categorical_accuracy: 0.9583\n",
      "Epoch 90/100\n",
      "4/4 [==============================] - 0s 97ms/step - loss: 0.1298 - categorical_accuracy: 0.9750\n",
      "Epoch 91/100\n",
      "4/4 [==============================] - 0s 119ms/step - loss: 0.1298 - categorical_accuracy: 0.9833\n",
      "Epoch 92/100\n",
      "4/4 [==============================] - 0s 104ms/step - loss: 0.1878 - categorical_accuracy: 0.9583\n",
      "Epoch 93/100\n",
      "4/4 [==============================] - 0s 118ms/step - loss: 0.3418 - categorical_accuracy: 0.8667\n",
      "Epoch 94/100\n",
      "4/4 [==============================] - 0s 109ms/step - loss: 0.2507 - categorical_accuracy: 0.8833\n",
      "Epoch 95/100\n",
      "4/4 [==============================] - 0s 112ms/step - loss: 0.1976 - categorical_accuracy: 0.9500\n",
      "Epoch 96/100\n",
      "4/4 [==============================] - 0s 107ms/step - loss: 0.1869 - categorical_accuracy: 0.9750\n",
      "Epoch 97/100\n",
      "4/4 [==============================] - 0s 113ms/step - loss: 0.1801 - categorical_accuracy: 0.9583\n",
      "Epoch 98/100\n",
      "4/4 [==============================] - 0s 97ms/step - loss: 0.1208 - categorical_accuracy: 0.9833\n",
      "Epoch 99/100\n",
      "4/4 [==============================] - 0s 92ms/step - loss: 0.1252 - categorical_accuracy: 0.9750\n",
      "Epoch 100/100\n",
      "4/4 [==============================] - 0s 101ms/step - loss: 0.1249 - categorical_accuracy: 0.9750\n"
     ]
    }
   ],
   "source": [
    "hist=model.fit(Xtrain,ytrain,epochs=100,batch_size=32)"
   ]
  },
  {
   "cell_type": "code",
   "execution_count": 17,
   "id": "e40798a1",
   "metadata": {},
   "outputs": [
    {
     "name": "stdout",
     "output_type": "stream",
     "text": [
      "1/1 [==============================] - 1s 773ms/step\n"
     ]
    }
   ],
   "source": [
    "yhat = model.predict(Xtest)"
   ]
  },
  {
   "cell_type": "code",
   "execution_count": 19,
   "id": "f84ce765",
   "metadata": {},
   "outputs": [],
   "source": [
    "ytrue = np.argmax(ytest, axis=1).tolist()\n",
    "yhat = np.argmax(yhat, axis=1).tolist()"
   ]
  },
  {
   "cell_type": "code",
   "execution_count": 21,
   "id": "915cea57",
   "metadata": {},
   "outputs": [
    {
     "data": {
      "text/plain": [
       "0.9666666666666667"
      ]
     },
     "execution_count": 21,
     "metadata": {},
     "output_type": "execute_result"
    }
   ],
   "source": [
    "from sklearn.metrics import accuracy_score\n",
    "accuracy_score(ytrue, yhat)"
   ]
  },
  {
   "cell_type": "code",
   "execution_count": 28,
   "id": "64db926d",
   "metadata": {},
   "outputs": [],
   "source": [
    "import keras\n",
    "keras.models.save_model(model,filepath='Model/model.h5')"
   ]
  },
  {
   "cell_type": "code",
   "execution_count": 22,
   "id": "3a8325b1",
   "metadata": {},
   "outputs": [],
   "source": [
    "cnf = confusion_matrix(ytrue,yhat)"
   ]
  },
  {
   "cell_type": "code",
   "execution_count": 25,
   "id": "92c09196",
   "metadata": {},
   "outputs": [
    {
     "data": {
      "text/plain": [
       "<AxesSubplot:>"
      ]
     },
     "execution_count": 25,
     "metadata": {},
     "output_type": "execute_result"
    },
    {
     "data": {
      "image/png": "[encoded data removed]",
      "text/plain": [
       "<Figure size 432x288 with 2 Axes>"
      ]
     },
     "metadata": {
      "needs_background": "light"
     },
     "output_type": "display_data"
    }
   ],
   "source": [
    "import seaborn as sns\n",
    "sns.heatmap(cnf,annot=True)"
   ]
  },
  {
   "cell_type": "code",
   "execution_count": null,
   "id": "0c9611ca",
   "metadata": {},
   "outputs": [],
   "source": []
  },
  {
   "cell_type": "code",
   "execution_count": null,
   "id": "518aa323",
   "metadata": {},
   "outputs": [],
   "source": []
  }
 ],
 "metadata": {
  "kernelspec": {
   "display_name": "Python 3.9.13 64-bit",
   "language": "python",
   "name": "python3"
  },
  "language_info": {
   "codemirror_mode": {
    "name": "ipython",
    "version": 3
   },
   "file_extension": ".py",
   "mimetype": "text/x-python",
   "name": "python",
   "nbconvert_exporter": "python",
   "pygments_lexer": "ipython3",
   "version": "3.9.13"
  },
  "vscode": {
   "interpreter": {
    "hash": "11938c6bc6919ae2720b4d5011047913343b08a43b18698fd82dedb0d4417594"
   }
  }
 },
 "nbformat": 4,
 "nbformat_minor": 5
}
